{
 "cells": [
  {
   "cell_type": "markdown",
   "metadata": {},
   "source": [
    "# Numpy \n",
    "## Sorting\n",
    "### The function used are \n",
    "* numpy.sort()  : This function returns a sorted copy of an array.\n",
    "* numpy.argsort()  : This function returns the indices that would sort an array.\n",
    "* numpy.lexsort()  : This function returns an indirect stable sort using a sequence of keys."
   ]
  },
  {
   "cell_type": "markdown",
   "metadata": {},
   "source": [
    "Import numpy library and initilise a as array"
   ]
  },
  {
   "cell_type": "code",
   "execution_count": 5,
   "metadata": {},
   "outputs": [],
   "source": [
    "import numpy as np\n",
    "a = np.array([9, 3, 1, 7, 4, 3, 6])"
   ]
  },
  {
   "cell_type": "markdown",
   "metadata": {},
   "source": [
    "**numpy.sort() : This function returns a sorted copy of an array.**"
   ]
  },
  {
   "cell_type": "code",
   "execution_count": 2,
   "metadata": {},
   "outputs": [
    {
     "name": "stdout",
     "output_type": "stream",
     "text": [
      "Array:\n",
      " [ 1 10 12 15]\n"
     ]
    }
   ],
   "source": [
    "arr1 = np.sort(a, axis = None)        \n",
    "print (\"Array:\\n\", arr1)"
   ]
  },
  {
   "cell_type": "markdown",
   "metadata": {},
   "source": [
    "**numpy.argsort() : This function returns the indices that would sort an array.**"
   ]
  },
  {
   "cell_type": "code",
   "execution_count": 6,
   "metadata": {},
   "outputs": [
    {
     "name": "stdout",
     "output_type": "stream",
     "text": [
      "Sorted indices:\n",
      " [2 1 5 4 6 3 0]\n"
     ]
    }
   ],
   "source": [
    "b = np.argsort(a)\n",
    "print('Sorted indices:\\n', b)"
   ]
  },
  {
   "cell_type": "markdown",
   "metadata": {},
   "source": [
    "**To sorted array using sorted indices**"
   ]
  },
  {
   "cell_type": "code",
   "execution_count": 7,
   "metadata": {},
   "outputs": [
    {
     "name": "stdout",
     "output_type": "stream",
     "text": [
      "Sorted array-> [1 3 3 4 6 7 9]\n"
     ]
    }
   ],
   "source": [
    "c = np.zeros(len(b), dtype = int)\n",
    "for i in range(0, len(b)):\n",
    "    c[i]= a[b[i]]\n",
    "print('Sorted array:', c)"
   ]
  },
  {
   "cell_type": "markdown",
   "metadata": {},
   "source": [
    "## Searching\n",
    "### The function used are\n",
    "* numpy.argmax() : This function returns indices of the max element of the array in a particular axis.\n",
    "* numpy.nanargmax() : This function returns indices of the max element of the array in a particular axis ignoring NaNs.\n",
    "* numpy.argmin() : This function returns the indices of the minimum values along an axis."
   ]
  },
  {
   "cell_type": "code",
   "execution_count": 29,
   "metadata": {},
   "outputs": [],
   "source": [
    "import numpy as np\n",
    "array = np.arange(12).reshape(3, 4)"
   ]
  },
  {
   "cell_type": "markdown",
   "metadata": {},
   "source": [
    "*reshape(x,y)* is a function to give an array the shape of matrix wth 3 *rows* and 4 *columns*"
   ]
  },
  {
   "cell_type": "code",
   "execution_count": 9,
   "metadata": {},
   "outputs": [
    {
     "name": "stdout",
     "output_type": "stream",
     "text": [
      "[[ 0  1  2  3]\n",
      " [ 4  5  6  7]\n",
      " [ 8  9 10 11]]\n"
     ]
    }
   ],
   "source": [
    "print(array)"
   ]
  },
  {
   "cell_type": "markdown",
   "metadata": {},
   "source": [
    "**numpy.argmax() : This function returns indices of the max element of the array in a particular axis (or as of whole array itself).**\n",
    "*Indixing in python starts with 0 and not 1*"
   ]
  },
  {
   "cell_type": "code",
   "execution_count": 10,
   "metadata": {},
   "outputs": [
    {
     "name": "stdout",
     "output_type": "stream",
     "text": [
      "11\n"
     ]
    }
   ],
   "source": [
    "a = np.argmax(array)\n",
    "print(a)"
   ]
  },
  {
   "cell_type": "code",
   "execution_count": 11,
   "metadata": {},
   "outputs": [
    {
     "name": "stdout",
     "output_type": "stream",
     "text": [
      "[2 2 2 2]\n"
     ]
    }
   ],
   "source": [
    "print(np.argmax(array, axis=0))"
   ]
  },
  {
   "cell_type": "markdown",
   "metadata": {},
   "source": [
    "print(np.argmax(array, axis=7))\n",
    "\n",
    "**If you try running the above code, AxisError is shown** \n",
    "which means, there is no axis of 7. It is similar as *Index Error* \n",
    "---------------------------------------------------------------------------\n",
    "AxisError                                 Traceback (most recent call last)\n",
    "<ipython-input-14-a81b381532b2> in <module>\n",
    "----> 1 print(np.argmax(array, axis=7))\n",
    "      2 \n",
    "\n",
    "<__array_function__ internals> in argmax(*args, **kwargs)\n",
    "\n",
    "C:\\ProgramData\\Anaconda3\\lib\\site-packages\\numpy\\core\\fromnumeric.py in argmax(a, axis, out)\n",
    "   1186 \n",
    "   1187     \"\"\"\n",
    "-> 1188     return _wrapfunc(a, 'argmax', axis=axis, out=out)\n",
    "   1189 \n",
    "   1190 \n",
    "\n",
    "C:\\ProgramData\\Anaconda3\\lib\\site-packages\\numpy\\core\\fromnumeric.py in _wrapfunc(obj, method, *args, **kwds)\n",
    "     56 \n",
    "     57     try:\n",
    "---> 58         return bound(*args, **kwds)\n",
    "     59     except TypeError:\n",
    "     60         # A TypeError occurs if the object does have such a method in its\n",
    "\n",
    "AxisError: axis 7 is out of bounds for array of dimension 2"
   ]
  },
  {
   "cell_type": "markdown",
   "metadata": {},
   "source": [
    "**numpy.nanargmax() : This function returns indices of the max element of the array in a particular axis ignoring NaNs.The results cannot be trusted if a slice contains only NaNs and Infs**"
   ]
  },
  {
   "cell_type": "code",
   "execution_count": 30,
   "metadata": {},
   "outputs": [
    {
     "name": "stdout",
     "output_type": "stream",
     "text": [
      "[4, 2, 3, 1]\n",
      "Index of maximum array is: 0\n"
     ]
    }
   ],
   "source": [
    "array = [4, 2, 3, 1]\n",
    "print(array)\n",
    "print((\"Index of maximum array is: \"+ str(np.nanargmax(array))))"
   ]
  },
  {
   "cell_type": "markdown",
   "metadata": {},
   "source": [
    "**numpy.argmin() : This function returns the indices of the minimum values along an axis.**"
   ]
  },
  {
   "cell_type": "code",
   "execution_count": 33,
   "metadata": {},
   "outputs": [
    {
     "name": "stdout",
     "output_type": "stream",
     "text": [
      "[4, 2, 3, 1]\n",
      "\n",
      "Indices of min element :  3\n"
     ]
    }
   ],
   "source": [
    "print(array)\n",
    "print(\"\\nIndices of min element : \", np.argmin(array, axis=0))"
   ]
  },
  {
   "cell_type": "markdown",
   "metadata": {},
   "source": [
    "## Counting\n",
    "### The function used is:\n",
    "* numpy.count_nonzero() : Counts the number of non-zero values in the array.\n",
    "    "
   ]
  },
  {
   "cell_type": "code",
   "execution_count": 42,
   "metadata": {},
   "outputs": [
    {
     "name": "stdout",
     "output_type": "stream",
     "text": [
      "Number of nonzero values is: 5\n",
      "Number of nonzero values is: 8\n"
     ]
    }
   ],
   "source": [
    "a =[[0,1,7,0,0],[3,0,0,2,19]]\n",
    "b =[[0,1,7,0,0],[3,0,0,2,0],[3,0,4,2,45]]\n",
    "c =np.count_nonzero(a)\n",
    "d =np.count_nonzero(b)\n",
    "print(\"Number of nonzero values is: {}\".format(c))\n",
    "print(\"Number of nonzero values is: {}\".format(d))"
   ]
  },
  {
   "cell_type": "code",
   "execution_count": null,
   "metadata": {},
   "outputs": [],
   "source": []
  }
 ],
 "metadata": {
  "kernelspec": {
   "display_name": "Python 3",
   "language": "python",
   "name": "python3"
  },
  "language_info": {
   "codemirror_mode": {
    "name": "ipython",
    "version": 3
   },
   "file_extension": ".py",
   "mimetype": "text/x-python",
   "name": "python",
   "nbconvert_exporter": "python",
   "pygments_lexer": "ipython3",
   "version": "3.7.7"
  }
 },
 "nbformat": 4,
 "nbformat_minor": 4
}
